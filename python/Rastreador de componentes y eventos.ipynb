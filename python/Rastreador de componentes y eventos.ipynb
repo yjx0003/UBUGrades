{
 "cells": [
  {
   "cell_type": "markdown",
   "metadata": {},
   "source": [
    "# Rastreador de componentes y eventos de logs.\n",
    "En este Notebook permite generar un fichero JSON con los diferentes componentes, eventos y descripciones que existen en un log de Moodle. Los logs deben descargarse en Moodle en formato CSV.\n",
    "También permite actualizar a partir de un fichero JSON para añadir nuevos elementos del log con otros ficheros CSV."
   ]
  },
  {
   "cell_type": "code",
   "execution_count": null,
   "metadata": {
    "collapsed": true
   },
   "outputs": [],
   "source": [
    "from tkinter import filedialog\n",
    "import csv\n",
    "import tkinter as tk\n",
    "import json\n",
    "import re"
   ]
  },
  {
   "cell_type": "markdown",
   "metadata": {},
   "source": [
    "# Carga de ficheros CSV y JSON (opcional)\n",
    "En esta celda permite seleccionar los ficheros CSV y opcionalmente un fichero .json donde se guardan los componentes y eventos generados anteriormente. En ambos casos se podran seleccionar a partir de una venta de selección de ficheros.\n",
    "Los CSV se puede elegir varios a la vez. Si no tenemos fichero JSON, damos en el botón de cancelar. <br>\n",
    "**OJO** Tener cuidado al elegir los CSV y JSON esten en el mismo idioma.<br><br>\n",
    "Fuente del código de la celda: https://stackoverflow.com/a/42398049"
   ]
  },
  {
   "cell_type": "code",
   "execution_count": null,
   "metadata": {
    "collapsed": true
   },
   "outputs": [],
   "source": [
    "\n",
    "# Create Tk root\n",
    "root = tk.Tk()\n",
    "# Hide the main window\n",
    "root.withdraw()\n",
    "root.call('wm', 'attributes', '.', '-topmost', True)\n",
    "\n",
    "csvFiles = filedialog.askopenfilename(multiple=True,filetypes=[(\"Ficheros CSV\",\".csv\")],title=\"Selecciona los ficheros CSV\")\n",
    "\n",
    "jsonFile=filedialog.askopenfilename(filetypes=[(\"Fichero JSON\",\".json\")],title=\"Selecciona el fichero JSON donde se guarda datos anteriores, si no tienes dale a cancelar\")\n",
    "\n",
    "%gui tk"
   ]
  },
  {
   "cell_type": "markdown",
   "metadata": {},
   "source": [
    "# Carga del fichero JSON\n",
    "Cargamos el fichero JSON seleccionado en la anterior ventana, si no se ha seleccionado ninguno creamos un nuevo diccionario."
   ]
  },
  {
   "cell_type": "code",
   "execution_count": null,
   "metadata": {},
   "outputs": [],
   "source": [
    "#Cargamos los componentes y eventos si se ha seleccionado fichero json\n",
    "\n",
    "if len(jsonFile)==0:\n",
    "    print(\"No se ha seleccionado un fichero JSON, se crea una nueva estructura de datos.\")\n",
    "    CM={}\n",
    "else:\n",
    "    with open(jsonFile,\"r\",encoding=\"utf-8\") as file:\n",
    "        CM=json.load(file)\n",
    "        print(\"Cargado el JSON\", jsonFile)"
   ]
  },
  {
   "cell_type": "markdown",
   "metadata": {},
   "source": [
    "# Parseo de las descripciones y almacenamiento de los componentes y eventos.\n",
    "Iteramos por cada fichero CSV seleccionado cogemos las columnas de Component, Nombre de evento y Descripción. Estas columnas deben ser los índices 4,5 y 6 empezando desde 0 respectivamente. Si hay una actualización de Moodle y cambia el orden hay que cambiar también en el código.<br><br>\n",
    "Las descripciones eliminamos el contenido dentro de las comillas simples y tambien borramos todos los numeros que aparecen.<br><br>\n",
    "Imprimimos las descripciones que hay mas de una diferente con el mismo componente y evento asociado.\n"
   ]
  },
  {
   "cell_type": "code",
   "execution_count": null,
   "metadata": {
    "scrolled": true
   },
   "outputs": [],
   "source": [
    "for csvFile in csvFiles: #por cada fichero seleccionado, lo parsemamos uno a uno.\n",
    "    with open(csvFile,encoding='utf-8') as file:\n",
    "        #reader = csv.DictReader(file, delimiter=',') #Lector de CSV con acceso a una columna por el nombre de encabezado\n",
    "        reader=csv.reader(file, delimiter=',') #Lector de CSV con acceso a una comlmna a traves del indice.\n",
    "        for row in reader:\n",
    "            component=row[4]#Se supone que el componente sencuentra por la cuarta columna empezando por 0\n",
    "            event=row[5]\n",
    "            description=row[6]\n",
    "            \n",
    "            descripNotNumber=re.sub(\"'[^']+'\",\"''\",description) #eliminamos el texto que esta entre comillas simples\n",
    "            descripNotNumber=re.sub(\"\\d+\", \"\", descripNotNumber) #eliminamos los numeros\n",
    "            \n",
    "            #el setdefault, si existe la key devuelve el valor y si no se crea segun el segundo parametro y lo devuelve.\n",
    "            descriptions=CM.setdefault(component,{}).setdefault(event,[]) \n",
    "            if(descripNotNumber not in descriptions):\n",
    "                descriptions.append(descripNotNumber)\n",
    "                if len(descriptions)>1:\n",
    "                    print(\"Componente y evento con varias descripciones diferentes:\")\n",
    "                    print(\"\\tComponent: \",component,\"\\tEvent:\",event,\"\\tDescriptions: \",descriptions)\n",
    "                    print()\n",
    "            "
   ]
  },
  {
   "cell_type": "markdown",
   "metadata": {},
   "source": [
    "# Se guarda el resultado como fichero JSON\n",
    "El resultado se guarda en el mismo fichero actualizándolo si se ha elegido, si no se crea uno nuevo llamado Componentes y eventos.json "
   ]
  },
  {
   "cell_type": "code",
   "execution_count": null,
   "metadata": {
    "scrolled": true
   },
   "outputs": [],
   "source": [
    "#Guardamos como JSON\n",
    "#mantenemos el nombre original del json y sino los llamamos componentes y eventos\n",
    "filename=  jsonFile if len(jsonFile)>0 else \"Componentes y eventos.json\" \n",
    "with open(filename, 'w',encoding='utf-8' ) as f:\n",
    "    json.dump( CM, f,indent=4,sort_keys=True,ensure_ascii=False )\n",
    "    print(\"Guardado como JSON\", filename)"
   ]
  },
  {
   "cell_type": "code",
   "execution_count": null,
   "metadata": {
    "collapsed": true
   },
   "outputs": [],
   "source": []
  },
  {
   "cell_type": "code",
   "execution_count": null,
   "metadata": {
    "collapsed": true
   },
   "outputs": [],
   "source": []
  }
 ],
 "metadata": {
  "kernelspec": {
   "display_name": "Python 3",
   "language": "python",
   "name": "python3"
  },
  "language_info": {
   "codemirror_mode": {
    "name": "ipython",
    "version": 3
   },
   "file_extension": ".py",
   "mimetype": "text/x-python",
   "name": "python",
   "nbconvert_exporter": "python",
   "pygments_lexer": "ipython3",
   "version": "3.6.8"
  }
 },
 "nbformat": 4,
 "nbformat_minor": 2
}
